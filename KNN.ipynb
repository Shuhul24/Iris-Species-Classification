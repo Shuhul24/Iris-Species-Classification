{
  "nbformat": 4,
  "nbformat_minor": 0,
  "metadata": {
    "colab": {
      "name": "KNN.ipynb",
      "provenance": []
    },
    "kernelspec": {
      "name": "python3",
      "display_name": "Python 3"
    }
  },
  "cells": [
    {
      "cell_type": "markdown",
      "metadata": {
        "id": "5B2V5IhhLyWY"
      },
      "source": [
        "Iris Species Classification using K-Nearest_Neighbors"
      ]
    },
    {
      "cell_type": "code",
      "metadata": {
        "colab": {
          "base_uri": "https://localhost:8080/"
        },
        "id": "0S7t8_nYH_aq",
        "outputId": "665a107f-1a94-4038-c1e6-d8b6e2ce9687"
      },
      "source": [
        "print(\"Xtrain shape: {}\".format(Xtrain.shape))\r\n",
        "print(\"ytrain shape: {}\".format(ytrain.shape))"
      ],
      "execution_count": 12,
      "outputs": [
        {
          "output_type": "stream",
          "text": [
            "Xtrain shape: (112, 4)\n",
            "ytrain shape: (112,)\n"
          ],
          "name": "stdout"
        }
      ]
    },
    {
      "cell_type": "code",
      "metadata": {
        "id": "3nj-8YYuLEKh"
      },
      "source": [
        "import numpy as np\r\n",
        "from scipy import sparse\r\n",
        "import matplotlib.pyplot as plt\r\n",
        "import pandas as pd\r\n",
        "from IPython.display import display"
      ],
      "execution_count": 2,
      "outputs": []
    },
    {
      "cell_type": "code",
      "metadata": {
        "id": "fpAAH2sYCKcE"
      },
      "source": [
        "from sklearn.datasets import load_iris\r\n",
        "iris_dataset = load_iris()"
      ],
      "execution_count": 15,
      "outputs": []
    },
    {
      "cell_type": "code",
      "metadata": {
        "colab": {
          "base_uri": "https://localhost:8080/"
        },
        "id": "eCgFzSTCE6kA",
        "outputId": "e81500ba-a403-470f-d214-543ede740912"
      },
      "source": [
        "print(\"{}\".format(iris_dataset.keys()))\r\n",
        "'''Here we have used two python methods: .format() and .keys(). format method is used to insert the\r\n",
        "values of the corresponding variables into the placeholder {}. keys method is used here to show us the\r\n",
        "dictionary's view object.\r\n",
        "DESCR: dataset'''"
      ],
      "execution_count": 10,
      "outputs": [
        {
          "output_type": "stream",
          "text": [
            "dict_keys(['data', 'target', 'target_names', 'DESCR', 'feature_names', 'filename'])\n"
          ],
          "name": "stdout"
        }
      ]
    },
    {
      "cell_type": "code",
      "metadata": {
        "id": "u9il3WVvF59q"
      },
      "source": [
        "from sklearn.model_selection import train_test_split\r\n",
        "Xtrain, Xtest, ytrain, ytest = train_test_split(iris_dataset['data'], iris_dataset['target'], random_state=0)"
      ],
      "execution_count": 11,
      "outputs": []
    },
    {
      "cell_type": "code",
      "metadata": {
        "colab": {
          "base_uri": "https://localhost:8080/"
        },
        "id": "x9X4MK8EISeC",
        "outputId": "8f54b622-0a14-4cb8-9565-20a3ab8c99bb"
      },
      "source": [
        "print(\"Xtest shape: {}\".format(Xtest.shape))\r\n",
        "print(\"ytest shape: {}\".format(ytest.shape))"
      ],
      "execution_count": 13,
      "outputs": [
        {
          "output_type": "stream",
          "text": [
            "Xtest shape: (38, 4)\n",
            "ytest shape: (38,)\n"
          ],
          "name": "stdout"
        }
      ]
    },
    {
      "cell_type": "code",
      "metadata": {
        "id": "VaL9qA1YIcbA"
      },
      "source": [
        "iris_dataframe = pd.DataFrame(Xtrain, columns=iris_dataset.feature_names)"
      ],
      "execution_count": 17,
      "outputs": []
    },
    {
      "cell_type": "code",
      "metadata": {
        "id": "NtiRuEnEJ4ng"
      },
      "source": [
        "from sklearn.neighbors import KNeighborsClassifier\r\n",
        "knn = KNeighborsClassifier(n_neighbors=1)"
      ],
      "execution_count": 19,
      "outputs": []
    },
    {
      "cell_type": "code",
      "metadata": {
        "colab": {
          "base_uri": "https://localhost:8080/"
        },
        "id": "FKMj-OqxKH5K",
        "outputId": "d0e770f9-0813-406b-e6f9-7ebd73f34a52"
      },
      "source": [
        "knn.fit(Xtrain, ytrain)"
      ],
      "execution_count": 21,
      "outputs": [
        {
          "output_type": "execute_result",
          "data": {
            "text/plain": [
              "KNeighborsClassifier(algorithm='auto', leaf_size=30, metric='minkowski',\n",
              "                     metric_params=None, n_jobs=None, n_neighbors=1, p=2,\n",
              "                     weights='uniform')"
            ]
          },
          "metadata": {
            "tags": []
          },
          "execution_count": 21
        }
      ]
    },
    {
      "cell_type": "code",
      "metadata": {
        "colab": {
          "base_uri": "https://localhost:8080/"
        },
        "id": "nwftn-0AKN_p",
        "outputId": "8edebd49-b51c-4fb4-e544-5a87c1395961"
      },
      "source": [
        "Xnew = np.array([[5, 2.9, 1, 0.2]])\r\n",
        "print(\"Xnew.shape: {}\".format(Xnew.shape))"
      ],
      "execution_count": 22,
      "outputs": [
        {
          "output_type": "stream",
          "text": [
            "Xnew.shape: (1, 4)\n"
          ],
          "name": "stdout"
        }
      ]
    },
    {
      "cell_type": "code",
      "metadata": {
        "colab": {
          "base_uri": "https://localhost:8080/"
        },
        "id": "xgaCBg4EKmNv",
        "outputId": "4191d3f5-0303-433a-fa83-ebad401df62c"
      },
      "source": [
        "prediction = knn.predict(Xnew)\r\n",
        "print(\"Prediction: {}\".format(prediction))"
      ],
      "execution_count": 23,
      "outputs": [
        {
          "output_type": "stream",
          "text": [
            "Prediction: [0]\n"
          ],
          "name": "stdout"
        }
      ]
    },
    {
      "cell_type": "code",
      "metadata": {
        "colab": {
          "base_uri": "https://localhost:8080/"
        },
        "id": "nQOTMwMxK703",
        "outputId": "796fd725-56db-4a6d-eeb3-0f35717169b2"
      },
      "source": [
        "ypredict = knn.predict(Xtest)\r\n",
        "print(\"Test set prediction: {}\".format(ypredict))"
      ],
      "execution_count": 24,
      "outputs": [
        {
          "output_type": "stream",
          "text": [
            "Test set prediction: [2 1 0 2 0 2 0 1 1 1 2 1 1 1 1 0 1 1 0 0 2 1 0 0 2 0 0 1 1 0 2 1 0 2 2 1 0\n",
            " 2]\n"
          ],
          "name": "stdout"
        }
      ]
    },
    {
      "cell_type": "code",
      "metadata": {
        "colab": {
          "base_uri": "https://localhost:8080/"
        },
        "id": "RnODBsPQLIEA",
        "outputId": "2511b43c-666b-4847-981d-8766cb1f2173"
      },
      "source": [
        "print(\"Test set score: {:.2f}\".format(np.mean(ypredict == ytest)))"
      ],
      "execution_count": 27,
      "outputs": [
        {
          "output_type": "stream",
          "text": [
            "Test set score: 0.97\n"
          ],
          "name": "stdout"
        }
      ]
    },
    {
      "cell_type": "code",
      "metadata": {
        "colab": {
          "base_uri": "https://localhost:8080/"
        },
        "id": "rheIt-9xLYZh",
        "outputId": "0cc0672f-8f17-41d9-cff7-9bcea32fde26"
      },
      "source": [
        "print(\"Test set score: {:.2f}\".format(knn.score(Xtest, ytest)))"
      ],
      "execution_count": 29,
      "outputs": [
        {
          "output_type": "stream",
          "text": [
            "Test set score: 0.97\n"
          ],
          "name": "stdout"
        }
      ]
    }
  ]
}